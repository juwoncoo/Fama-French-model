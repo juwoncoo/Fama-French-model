{
 "cells": [
  {
   "cell_type": "markdown",
   "id": "a3eb260e-44a1-4ce1-beb2-a72e4ecccf32",
   "metadata": {},
   "source": [
    "Fama-French model:시장(MKT), 크기(SMB), 가치(HML), 수익성(RMW), 투자(5-factor의 CMA) 등 여러 요인을 기반으로 주식 포트폴리오의 수익률을 설명 \n",
    "Fama-French 5-factor 모델을 적용하여, 한국 상장기업의 주식 수익률을 시장, 규모, 가치, 수익성, 투자 요인으로 분석하고 파이썬으로 구현하고자 함\n",
    "->우선적으로 식품, 자동차 섹터만 돌려보았음"
   ]
  },
  {
   "cell_type": "markdown",
   "id": "2bec22fa-0ee9-4ed2-8bec-2fe82fe33785",
   "metadata": {},
   "source": [
    "터미널 설치"
   ]
  },
  {
   "cell_type": "code",
   "execution_count": 1,
   "id": "1c693fa5-d72f-488d-b028-a390bd5380ae",
   "metadata": {
    "scrolled": true
   },
   "outputs": [
    {
     "name": "stdout",
     "output_type": "stream",
     "text": [
      "Requirement already satisfied: pykrx in c:\\users\\김주원\\appdata\\local\\programs\\python\\python313\\lib\\site-packages (1.0.51)\n",
      "Requirement already satisfied: requests in c:\\users\\김주원\\appdata\\local\\programs\\python\\python313\\lib\\site-packages (from pykrx) (2.32.3)\n",
      "Requirement already satisfied: pandas in c:\\users\\김주원\\appdata\\local\\programs\\python\\python313\\lib\\site-packages (from pykrx) (2.2.3)\n",
      "Requirement already satisfied: datetime in c:\\users\\김주원\\appdata\\local\\programs\\python\\python313\\lib\\site-packages (from pykrx) (5.5)\n",
      "Requirement already satisfied: numpy in c:\\users\\김주원\\appdata\\local\\programs\\python\\python313\\lib\\site-packages (from pykrx) (2.3.1)\n",
      "Requirement already satisfied: xlrd in c:\\users\\김주원\\appdata\\local\\programs\\python\\python313\\lib\\site-packages (from pykrx) (2.0.2)\n",
      "Requirement already satisfied: deprecated in c:\\users\\김주원\\appdata\\local\\programs\\python\\python313\\lib\\site-packages (from pykrx) (1.2.18)\n",
      "Requirement already satisfied: multipledispatch in c:\\users\\김주원\\appdata\\local\\programs\\python\\python313\\lib\\site-packages (from pykrx) (1.0.0)\n",
      "Requirement already satisfied: matplotlib in c:\\users\\김주원\\appdata\\local\\programs\\python\\python313\\lib\\site-packages (from pykrx) (3.10.3)\n",
      "Requirement already satisfied: zope.interface in c:\\users\\김주원\\appdata\\local\\programs\\python\\python313\\lib\\site-packages (from datetime->pykrx) (7.2)\n",
      "Requirement already satisfied: pytz in c:\\users\\김주원\\appdata\\local\\programs\\python\\python313\\lib\\site-packages (from datetime->pykrx) (2025.2)\n",
      "Requirement already satisfied: wrapt<2,>=1.10 in c:\\users\\김주원\\appdata\\local\\programs\\python\\python313\\lib\\site-packages (from deprecated->pykrx) (1.17.2)\n",
      "Requirement already satisfied: contourpy>=1.0.1 in c:\\users\\김주원\\appdata\\local\\programs\\python\\python313\\lib\\site-packages (from matplotlib->pykrx) (1.3.2)\n",
      "Requirement already satisfied: cycler>=0.10 in c:\\users\\김주원\\appdata\\local\\programs\\python\\python313\\lib\\site-packages (from matplotlib->pykrx) (0.12.1)\n",
      "Requirement already satisfied: fonttools>=4.22.0 in c:\\users\\김주원\\appdata\\local\\programs\\python\\python313\\lib\\site-packages (from matplotlib->pykrx) (4.58.5)\n",
      "Requirement already satisfied: kiwisolver>=1.3.1 in c:\\users\\김주원\\appdata\\local\\programs\\python\\python313\\lib\\site-packages (from matplotlib->pykrx) (1.4.8)\n",
      "Requirement already satisfied: packaging>=20.0 in c:\\users\\김주원\\appdata\\local\\programs\\python\\python313\\lib\\site-packages (from matplotlib->pykrx) (24.2)\n",
      "Requirement already satisfied: pillow>=8 in c:\\users\\김주원\\appdata\\local\\programs\\python\\python313\\lib\\site-packages (from matplotlib->pykrx) (11.3.0)\n",
      "Requirement already satisfied: pyparsing>=2.3.1 in c:\\users\\김주원\\appdata\\local\\programs\\python\\python313\\lib\\site-packages (from matplotlib->pykrx) (3.2.3)\n",
      "Requirement already satisfied: python-dateutil>=2.7 in c:\\users\\김주원\\appdata\\local\\programs\\python\\python313\\lib\\site-packages (from matplotlib->pykrx) (2.9.0.post0)\n",
      "Requirement already satisfied: tzdata>=2022.7 in c:\\users\\김주원\\appdata\\local\\programs\\python\\python313\\lib\\site-packages (from pandas->pykrx) (2025.2)\n",
      "Requirement already satisfied: charset-normalizer<4,>=2 in c:\\users\\김주원\\appdata\\local\\programs\\python\\python313\\lib\\site-packages (from requests->pykrx) (3.4.1)\n",
      "Requirement already satisfied: idna<4,>=2.5 in c:\\users\\김주원\\appdata\\local\\programs\\python\\python313\\lib\\site-packages (from requests->pykrx) (3.10)\n",
      "Requirement already satisfied: urllib3<3,>=1.21.1 in c:\\users\\김주원\\appdata\\local\\programs\\python\\python313\\lib\\site-packages (from requests->pykrx) (2.3.0)\n",
      "Requirement already satisfied: certifi>=2017.4.17 in c:\\users\\김주원\\appdata\\local\\programs\\python\\python313\\lib\\site-packages (from requests->pykrx) (2025.1.31)\n",
      "Requirement already satisfied: six>=1.5 in c:\\users\\김주원\\appdata\\local\\programs\\python\\python313\\lib\\site-packages (from python-dateutil>=2.7->matplotlib->pykrx) (1.17.0)\n",
      "Requirement already satisfied: setuptools in c:\\users\\김주원\\appdata\\local\\programs\\python\\python313\\lib\\site-packages (from zope.interface->datetime->pykrx) (78.1.0)\n",
      "Note: you may need to restart the kernel to use updated packages.\n"
     ]
    },
    {
     "name": "stderr",
     "output_type": "stream",
     "text": [
      "\n",
      "[notice] A new release of pip is available: 24.3.1 -> 25.1.1\n",
      "[notice] To update, run: python.exe -m pip install --upgrade pip\n"
     ]
    }
   ],
   "source": [
    "pip install pykrx"
   ]
  },
  {
   "cell_type": "markdown",
   "id": "6ed04251-8af1-4890-8bf9-2ebf717063bf",
   "metadata": {},
   "source": [
    "A. SMG(Small-Big): "
   ]
  },
  {
   "cell_type": "code",
   "execution_count": 3,
   "id": "2686b113-dbde-49fd-9508-f0bf37797287",
   "metadata": {},
   "outputs": [
    {
     "name": "stdout",
     "output_type": "stream",
     "text": [
      "         종목명            시가총액   규모구분\n",
      "0        케이카    749713055880  상위50%\n",
      "1     KG모빌리티    735632805120  상위50%\n",
      "2      KG케미칼    336867676800  상위50%\n",
      "3         기아  39608194147200  상위50%\n",
      "4  코오롱모빌리티그룹    161023646250  상위50%\n"
     ]
    }
   ],
   "source": [
    "#1.상위50%,하위50% 기업 리스트 정리\n",
    "import pandas as pd\n",
    "\n",
    "# CSV 파일 정확한 경로 지정\n",
    "file_path = r'C:\\Users\\김주원\\Desktop\\식품, 자동차 섹터.csv'\n",
    "\n",
    "# CSV 파일 불러오기\n",
    "df = pd.read_csv(file_path, encoding='cp949')\n",
    "\n",
    "# 시가총액 전처리: ₩, 쉼표, \\ 제거 후 숫자형으로 변환\n",
    "df['시가총액'] = df['시가총액'].astype(str)\n",
    "df['시가총액'] = df['시가총액'].str.replace('₩', '', regex=False)\n",
    "df['시가총액'] = df['시가총액'].str.replace(',', '', regex=False)\n",
    "df['시가총액'] = df['시가총액'].str.replace('\\\\', '', regex=False)\n",
    "\n",
    "# 문자열 → 숫자형 (오류 시 NaN 처리)\n",
    "df['시가총액'] = pd.to_numeric(df['시가총액'], errors='coerce')\n",
    "\n",
    "# 중앙값 계산 후 NaN 제외하고 상위/하위 50% 분류\n",
    "median_value = df['시가총액'].median()\n",
    "df['규모구분'] = df['시가총액'].apply(\n",
    "    lambda x: '상위50%' if pd.notnull(x) and x >= median_value\n",
    "    else ('하위50%' if pd.notnull(x) else None)\n",
    ")\n",
    "\n",
    "# 결과 미리보기\n",
    "print(df[['종목명', '시가총액', '규모구분']].head())\n",
    "\n",
    "# 결과 저장\n",
    "output_path = r'C:\\Users\\김주원\\Desktop\\test_분류결과.csv'\n",
    "df.to_csv(output_path, index=False, encoding='utf-8-sig')\n"
   ]
  },
  {
   "cell_type": "code",
   "execution_count": 4,
   "id": "892b3dd3-a73b-4cb7-a7c1-86b809abd509",
   "metadata": {},
   "outputs": [
    {
     "name": "stderr",
     "output_type": "stream",
     "text": [
      "100%|████████████████████████████████████████████████████████████████████████████████| 106/106 [00:58<00:00,  1.82it/s]"
     ]
    },
    {
     "name": "stdout",
     "output_type": "stream",
     "text": [
      "완료!\n"
     ]
    },
    {
     "name": "stderr",
     "output_type": "stream",
     "text": [
      "\n"
     ]
    }
   ],
   "source": [
    "#2. 월말 종가데이터(네이버금융으로 크롤링하려고 하였으나 종가,시가총액 데이터가 잘 뽑히지 않는 이슈로 pykrx로 뽑음)\n",
    "import pandas as pd\n",
    "import requests\n",
    "from bs4 import BeautifulSoup\n",
    "from tqdm import tqdm\n",
    "\n",
    "# 1. 파일 읽기 (종목코드 str로 읽기)\n",
    "file_path = r\"C:\\Users\\김주원\\Desktop\\식품, 자동차 섹터.csv\"\n",
    "df = pd.read_csv(file_path, dtype={'종목코드': str}, encoding='cp949')\n",
    "df['종목코드'] = df['종목코드'].str.zfill(6)  # 항상 6자리로 맞추기\n",
    "\n",
    "codes = df['종목코드'].tolist()\n",
    "\n",
    "# 월말 종가 크롤링 함수\n",
    "def get_monthly_data(stock_code, year, month):\n",
    "    url = f\"https://finance.naver.com/item/sise_day.naver?code={stock_code}\"\n",
    "    result = []\n",
    "    for page in range(1, 4):\n",
    "        pg_url = f\"{url}&page={page}\"\n",
    "        res = requests.get(pg_url, headers={\"User-Agent\":\"Mozilla/5.0\"})\n",
    "        soup = BeautifulSoup(res.text, \"html.parser\")\n",
    "        table = soup.select(\"table[type='N']\")\n",
    "        if not table:\n",
    "            continue\n",
    "        rows = table[0].select(\"tr\")\n",
    "        for row in rows:\n",
    "            cols = row.find_all(\"td\")\n",
    "            if len(cols) < 7:\n",
    "                continue\n",
    "            date = cols[0].text.strip().replace('.', '-')\n",
    "            if not date:\n",
    "                continue\n",
    "            try:\n",
    "                y, m, d = map(int, date.split('-'))\n",
    "                if y == year and m == month:\n",
    "                    close = int(cols[1].text.replace(',', ''))\n",
    "                    result.append((date, close))\n",
    "            except:\n",
    "                continue\n",
    "    if not result:\n",
    "        return None, None\n",
    "    result.sort()\n",
    "    return result[-1]\n",
    "\n",
    "# 시가총액, PBR 크롤링 함수\n",
    "def get_valuation(stock_code):\n",
    "    url = f\"https://finance.naver.com/item/main.naver?code={stock_code}\"\n",
    "    res = requests.get(url, headers={\"User-Agent\":\"Mozilla/5.0\"})\n",
    "    soup = BeautifulSoup(res.text, \"html.parser\")\n",
    "    try:\n",
    "        market_cap_tag = soup.select_one('em#_market_sum')\n",
    "        market_cap = market_cap_tag.text.strip().replace(\",\", \"\") if market_cap_tag else None\n",
    "       \n",
    "        pbr = None\n",
    "        for th in soup.select('table.per_table th'):\n",
    "            if 'PBR' in th.text:\n",
    "                em = th.find_next('td').find('em')\n",
    "                pbr = em.text.strip() if em else None\n",
    "                break\n",
    "    except Exception as e:\n",
    "        market_cap, pbr = None, None\n",
    "    return market_cap, pbr\n",
    "\n",
    "# 크롤링 실행\n",
    "result_list = []\n",
    "for code in tqdm(codes):\n",
    "    y, m = 2024, 6  # 원하는 연도와 월\n",
    "    date, close = get_monthly_data(code, y, m)\n",
    "    market_cap, pbr = get_valuation(code)\n",
    "    name = df[df['종목코드'] == code]['종목명'].values[0]\n",
    "    result_list.append({\n",
    "        '종목코드': code,\n",
    "        '종목명': name,\n",
    "        '월말일자': date,\n",
    "        '월말종가': close,\n",
    "        '시가총액': market_cap,\n",
    "        'PBR': pbr\n",
    "    })\n",
    "\n",
    "result_df = pd.DataFrame(result_list)\n",
    "result_df.to_csv(r\"C:\\Users\\김주원\\Desktop\\네이버월말_식품,자동차_데이터.csv\", index=False, encoding='utf-8-sig')\n",
    "print(\"완료!\")"
   ]
  },
  {
   "cell_type": "code",
   "execution_count": null,
   "id": "e5a62257-cebb-4c90-94dc-8d65a63893cf",
   "metadata": {},
   "outputs": [],
   "source": []
  },
  {
   "cell_type": "code",
   "execution_count": null,
   "id": "61fc4084-a33d-46da-bfc2-c0d8e4170b52",
   "metadata": {},
   "outputs": [
    {
     "name": "stderr",
     "output_type": "stream",
     "text": [
      " 62%|██████████████████████████████████████████████████▍                              | 66/106 [48:47<28:04, 42.10s/it]"
     ]
    }
   ],
   "source": [
    "# 2 월말 종가/시총 데이터(pykrx버전)\n",
    "from pykrx import stock\n",
    "import pandas as pd\n",
    "from tqdm import tqdm\n",
    "\n",
    "file_path = r\"C:\\Users\\김주원\\Desktop\\식품, 자동차 섹터.csv\"\n",
    "df = pd.read_csv(file_path, dtype={'종목코드': str}, encoding='cp949')\n",
    "df['종목코드'] = df['종목코드'].str.zfill(6)\n",
    "codes = df['종목코드'].tolist()\n",
    "\n",
    "result = []\n",
    "for code in tqdm(codes):\n",
    "    name = df[df['종목코드'] == code]['종목명'].values[0]\n",
    "    for year in range(2000, 2025):\n",
    "        for month in range(1, 13):\n",
    "            date = pd.to_datetime(f\"{year}-{month:02d}-01\") + pd.offsets.MonthEnd(0)\n",
    "            try:\n",
    "                close = stock.get_market_ohlcv_by_date(date, date, code)['종가'].values[0]\n",
    "                mcap = stock.get_market_cap_by_date(date, date, code)['시가총액'].values[0]\n",
    "                result.append({\n",
    "                    '종목코드': code,\n",
    "                    '종목명': name,\n",
    "                    '연도': year,\n",
    "                    '월': month,\n",
    "                    '월말일자': date.strftime('%Y-%m-%d'),\n",
    "                    '월말종가': close,\n",
    "                    '월말시가총액': mcap\n",
    "                })\n",
    "            except:\n",
    "                continue\n",
    "\n",
    "result_df = pd.DataFrame(result)\n",
    "result_df.to_csv(r\"C:\\Users\\김주원\\Desktop\\월말_식품자동차_데이터_pykrx.csv\", index=False, encoding='utf-8-sig')\n",
    "print(\"완료!\")\n"
   ]
  },
  {
   "cell_type": "markdown",
   "id": "0ca27c56-f9f4-4e2c-8a38-9cfb0715edeb",
   "metadata": {},
   "source": [
    "B.HML(High-Low)가치: 주식의 장부가치(Book value = 순자산 = 자본)을 시가총액으로 나눈 값 = 1/PBR"
   ]
  },
  {
   "cell_type": "code",
   "execution_count": null,
   "id": "5ded1561-a015-45aa-93cd-df2941c20989",
   "metadata": {},
   "outputs": [],
   "source": [
    "# pbr 구하기 \n",
    "from pykrx import stock\n",
    "import pandas as pd\n",
    "from tqdm import tqdm\n",
    "\n",
    "# 종목코드 리스트 읽기 (예시: CSV 파일)\n",
    "file_path = r\"C:\\Users\\김주원\\Desktop\\식품, 자동차 섹터.csv\"\n",
    "df = pd.read_csv(file_path, dtype={'종목코드': str}, encoding='cp949')\n",
    "df['종목코드'] = df['종목코드'].str.zfill(6)\n",
    "codes = df['종목코드'].tolist()\n",
    "\n",
    "result = []\n",
    "for code in tqdm(codes):\n",
    "    name = df[df['종목코드'] == code]['종목명'].values[0]\n",
    "    for year in range(2000, 2024): \n",
    "        for month in range(1, 13):\n",
    "            date = pd.to_datetime(f\"{year}-{month:02d}-01\") + pd.offsets.MonthEnd(0)\n",
    "            try:\n",
    "                pbr = stock.get_market_fundamental_by_date(date, date, code)['PBR'].values[0]\n",
    "                if pbr == 0 or pd.isna(pbr):\n",
    "                    bm = None\n",
    "                else:\n",
    "                    bm = 1 / pbr\n",
    "                result.append({\n",
    "                    '종목코드': code,\n",
    "                    '종목명': name,\n",
    "                    '연도': year,\n",
    "                    '월': month,\n",
    "                    '월말일자': date.strftime('%Y-%m-%d'),\n",
    "                    'PBR': pbr,\n",
    "                    'B/M(1/PBR)': bm\n",
    "                })\n",
    "            except Exception as e:\n",
    "                continue\n",
    "\n",
    "result_df = pd.DataFrame(result)\n",
    "result_df.to_csv(r\"C:\\Users\\김주원\\Desktop\\월말_PBR_BM_2000_2025.csv\", index=False, encoding='utf-8-sig')\n",
    "print(\"완료!\")\n"
   ]
  },
  {
   "cell_type": "markdown",
   "id": "7dd1a5e5-34c3-4460-a037-b5258f127e5c",
   "metadata": {},
   "source": [
    "C.RMW(Robust-Weak)"
   ]
  },
  {
   "cell_type": "code",
   "execution_count": null,
   "id": "b32d0b78-03f7-4926-af56-d4e9111b7d2b",
   "metadata": {},
   "outputs": [],
   "source": [
    "from OpenDartReader import OpenDartReader\n",
    "import pandas as pd\n",
    "import time\n",
    "\n",
    "# 1. 종목코드 리스트 CSV에서 불러오기\n",
    "file_path = r\"C:\\Users\\김주원\\Desktop\\식품, 자동차 섹터.csv\"\n",
    "df_code = pd.read_csv(file_path, dtype={'종목코드': str}, encoding='cp949')\n",
    "df_code['종목코드'] = df_code['종목코드'].str.zfill(6)\n",
    "code_list = df_code['종목코드'].tolist()\n",
    "\n",
    "# 2. DART API 키 입력\n",
    "api_key = \"8a0be11993744250453be56e4cfeb903eec9e608\"\n",
    "dart = OpenDartReader(api_key)\n",
    "\n",
    "# 3. 계정명 후보 리스트(재무제표에 계정명이 동일하게 적혀져있지 않는 경우 존재하기 때문에 가능한 후보 리스트 추가하여 인식안되는 경우 방지)\n",
    "매출액_가능명 = ['매출액', '수익', '영업수익', '매출', '영업매출액']\n",
    "매출원가_가능명 = ['매출원가', '영업원가']\n",
    "판관비_가능명 = ['판매비와관리비', '판관비', '판매관리비']\n",
    "이자비용_가능명 = ['이자비용']\n",
    "자본총계_가능명 = ['자본총계', '자본']\n",
    "\n",
    "def get_value(df, name_list):\n",
    "    for name in name_list:\n",
    "        v = df.loc[df['account_nm'].str.contains(name), 'thstrm_amount']\n",
    "        if not v.empty:\n",
    "            try:\n",
    "                return float(v.values[0].replace(',', ''))\n",
    "            except:\n",
    "                return None\n",
    "    return None\n",
    "\n",
    "result = []\n",
    "\n",
    "for code in code_list:\n",
    "    corp_code = dart._find_corp_code(code)\n",
    "    for year in range(2000, 2025):\n",
    "        try:\n",
    "            fs = dart.finstate(corp=corp_code, bsns_year=str(year), reprt_code='11011')\n",
    "            if fs is None or fs.empty:\n",
    "                continue\n",
    "            sales = get_value(fs, 매출액_가능명)\n",
    "            cogs = get_value(fs, 매출원가_가능명)\n",
    "            sgna = get_value(fs, 판관비_가능명)\n",
    "            interest = get_value(fs, 이자비용_가능명)\n",
    "            equity = get_value(fs, 자본총계_가능명)\n",
    "            if None in [sales, cogs, sgna, interest, equity]:\n",
    "                op = None\n",
    "            else:\n",
    "                op = (sales - cogs - sgna - interest) / equity\n",
    "            result.append({\n",
    "                '종목코드': code,\n",
    "                '연도': year,\n",
    "                '매출액': sales,\n",
    "                '매출원가': cogs,\n",
    "                '판관비': sgna,\n",
    "                '이자비용': interest,\n",
    "                '자본총계': equity,\n",
    "                'OP': op\n",
    "            })\n",
    "            time.sleep(0.2)\n",
    "        except Exception as e:\n",
    "            print(f\"{code} {year} 오류: {e}\")\n",
    "            continue\n",
    "\n",
    "# 결과 저장\n",
    "result_df = pd.DataFrame(result)\n",
    "result_df.to_csv(\"연도별_OP_2000_2024.csv\", index=False, encoding='utf-8-sig')\n",
    "print(\"완료!\")\n"
   ]
  },
  {
   "cell_type": "markdown",
   "id": "97141b0a-be00-43dc-b3bd-d6fc16fd697c",
   "metadata": {},
   "source": [
    "D.CMA(Conservative-Aggressive)"
   ]
  },
  {
   "cell_type": "code",
   "execution_count": null,
   "id": "357f7977-7992-48c5-8603-a0fa0e7735a1",
   "metadata": {},
   "outputs": [],
   "source": []
  },
  {
   "cell_type": "markdown",
   "id": "d6ed37c5-40ea-49fc-a1bd-ca6218c90d06",
   "metadata": {},
   "source": [
    "E.Rm-Rf:전체 시장의 평균 수익률에서 무위험 수익률(국채 수익률)을 뺀 시장 초과 수익률"
   ]
  },
  {
   "cell_type": "code",
   "execution_count": null,
   "id": "41e4a2f6-63e9-4555-9f6c-464ef0d3a468",
   "metadata": {},
   "outputs": [],
   "source": []
  },
  {
   "cell_type": "markdown",
   "id": "b7545b1d-b4e6-4634-a997-779b7a2f21c7",
   "metadata": {},
   "source": [
    "*참고: https://psystat.tistory.com/147,\n",
    "https://velog.io/@hyksun2015/%ED%8C%8C%EB%A7%88-%ED%94%84%EB%A0%8C%EC%B9%98-5%ED%8C%A9%ED%84%B0,\n",
    "https://github.com/hyunyulhenry/quant_py/blob/main/data_korea.ipynb\n"
   ]
  }
 ],
 "metadata": {
  "kernelspec": {
   "display_name": "Python 3 (ipykernel)",
   "language": "python",
   "name": "python3"
  },
  "language_info": {
   "codemirror_mode": {
    "name": "ipython",
    "version": 3
   },
   "file_extension": ".py",
   "mimetype": "text/x-python",
   "name": "python",
   "nbconvert_exporter": "python",
   "pygments_lexer": "ipython3",
   "version": "3.13.2"
  }
 },
 "nbformat": 4,
 "nbformat_minor": 5
}
